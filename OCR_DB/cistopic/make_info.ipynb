{
 "cells": [
  {
   "cell_type": "code",
   "execution_count": 1,
   "metadata": {},
   "outputs": [],
   "source": [
    "import yaml\n",
    "import os"
   ]
  },
  {
   "cell_type": "code",
   "execution_count": 2,
   "metadata": {},
   "outputs": [],
   "source": [
    "for f in os.listdir('./'):\n",
    "    if f[-3:] == 'bed':\n",
    "        print('\\'%s\\': \\'%s\\',' % (f.split('.')[0], f))"
   ]
  },
  {
   "cell_type": "code",
   "execution_count": 3,
   "metadata": {},
   "outputs": [],
   "source": [
    "meta = {'background':'background.bed.gz',\n",
    "  'cell_type': {  \n",
    "    'NKcell': 'NKcell.bed.gz',\n",
    "    'CD8Tcell': 'CD8Tcell.bed.gz',\n",
    "    'CD34-Cord-Blood': 'CD34-Cord-Blood.bed.gz',\n",
    "    'Mono': 'Mono.bed.gz',\n",
    "    'Bcell': 'Bcell.bed.gz',\n",
    "    'CD34-Bone-Marrow': 'CD34-Bone-Marrow.bed.gz',\n",
    "    'CD4Tcell': 'CD4Tcell.bed.gz',\n",
    "    }\n",
    "       }\n"
   ]
  },
  {
   "cell_type": "code",
   "execution_count": 4,
   "metadata": {},
   "outputs": [],
   "source": [
    "with open('info.yaml', 'w') as writer:\n",
    "    yaml.dump(meta, writer)"
   ]
  },
  {
   "cell_type": "code",
   "execution_count": null,
   "metadata": {},
   "outputs": [],
   "source": []
  }
 ],
 "metadata": {
  "kernelspec": {
   "display_name": "Python 3",
   "language": "python",
   "name": "python3"
  },
  "language_info": {
   "codemirror_mode": {
    "name": "ipython",
    "version": 3
   },
   "file_extension": ".py",
   "mimetype": "text/x-python",
   "name": "python",
   "nbconvert_exporter": "python",
   "pygments_lexer": "ipython3",
   "version": "3.8.5"
  }
 },
 "nbformat": 4,
 "nbformat_minor": 2
}
