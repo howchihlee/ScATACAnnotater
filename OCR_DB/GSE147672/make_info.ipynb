{
 "cells": [
  {
   "cell_type": "code",
   "execution_count": 1,
   "metadata": {},
   "outputs": [],
   "source": [
    "import yaml\n",
    "import os"
   ]
  },
  {
   "cell_type": "code",
   "execution_count": 2,
   "metadata": {},
   "outputs": [],
   "source": [
    "## https://www.nature.com/articles/s41588-020-00721-x/figures/1\n",
    "meta = {'background':'background.bed.gz',\n",
    "  'cell_type': {  \n",
    "    'Isocortical excitatory': 'Cluster1.bed.gz',\n",
    "    'Striatal inhibitory': 'Cluster2.bed.gz',\n",
    "    'Hippocampal excitatory-1': 'Cluster3.bed.gz',\n",
    "    'Hippocampal excitatory-2': 'Cluster4.bed.gz',\n",
    "    'Nigral neurons':  'Cluster5.bed.gz',\n",
    "    'Nigral cells':  'Cluster6.bed.gz',\n",
    "    'OPCs-1':  'Cluster8.bed.gz',\n",
    "    'OPCs-2':  'Cluster9.bed.gz',\n",
    "    'Nigral OPCs':  'Cluster10.bed.gz',\n",
    "    'Isocortical inhibitory': 'Cluster11.bed.gz',\n",
    "    'Striatal inhibitory': 'Cluster12.bed.gz',   \n",
    "    'Astrocytes-1': 'Cluster13.bed.gz',\n",
    "    'Nigral Astrocytes': 'Cluster14.bed.gz',\n",
    "    'Isocortical Astrocytes': 'Cluster15.bed.gz',\n",
    "    'Striatal Astrocytes': 'Cluster16.bed.gz',   \n",
    "    'Astrocytes-2': 'Cluster17.bed.gz',\n",
    "    'Olidendrocytes-1': 'Cluster19.bed.gz',\n",
    "    'Olidendrocytes-2': 'Cluster20.bed.gz',\n",
    "    'Olidendrocytes-3': 'Cluster21.bed.gz',\n",
    "    'Olidendrocytes-4': 'Cluster22.bed.gz',\n",
    "    'Olidendrocytes-5': 'Cluster23.bed.gz',\n",
    "    'Microglia': 'Cluster24.bed.gz',\n",
    "  },\n",
    "'tissue': 'brain',\n",
    "       }\n"
   ]
  },
  {
   "cell_type": "code",
   "execution_count": 3,
   "metadata": {},
   "outputs": [],
   "source": [
    "with open('info.yaml', 'w') as writer:\n",
    "    yaml.dump(meta, writer)"
   ]
  },
  {
   "cell_type": "code",
   "execution_count": null,
   "metadata": {},
   "outputs": [],
   "source": []
  }
 ],
 "metadata": {
  "kernelspec": {
   "display_name": "Python 3",
   "language": "python",
   "name": "python3"
  },
  "language_info": {
   "codemirror_mode": {
    "name": "ipython",
    "version": 3
   },
   "file_extension": ".py",
   "mimetype": "text/x-python",
   "name": "python",
   "nbconvert_exporter": "python",
   "pygments_lexer": "ipython3",
   "version": "3.8.5"
  }
 },
 "nbformat": 4,
 "nbformat_minor": 2
}
