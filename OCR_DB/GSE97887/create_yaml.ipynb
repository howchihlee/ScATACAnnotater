{
 "cells": [
  {
   "cell_type": "code",
   "execution_count": 1,
   "metadata": {},
   "outputs": [],
   "source": [
    "import yaml\n",
    "import os"
   ]
  },
  {
   "cell_type": "code",
   "execution_count": 2,
   "metadata": {},
   "outputs": [
    {
     "data": {
      "text/plain": [
       "['In.diffPeaks.bed.gz',\n",
       " 'info.yaml',\n",
       " 'create_yaml.ipynb',\n",
       " 'get_data.sh',\n",
       " 'Mic.diffPeaks.bed.gz',\n",
       " '.ipynb_checkpoints',\n",
       " 'Oli.diffPeaks.bed.gz',\n",
       " 'Ex.diffPeaks.bed.gz',\n",
       " 'Ast.diffPeaks.bed.gz',\n",
       " 'meta_data.yaml',\n",
       " 'End.diffPeaks.bed.gz',\n",
       " 'Opc.diffPeaks.bed.gz',\n",
       " 'background.bed.gz']"
      ]
     },
     "execution_count": 2,
     "metadata": {},
     "output_type": "execute_result"
    }
   ],
   "source": [
    "os.listdir('./')"
   ]
  },
  {
   "cell_type": "code",
   "execution_count": 3,
   "metadata": {},
   "outputs": [],
   "source": [
    "meta = {'background':'background.bed.gz',\n",
    "  'cell_type':{  \n",
    "   'Ex': 'Ex.diffPeaks.bed.gz',\n",
    "   'Opc': 'Opc.diffPeaks.bed.gz',\n",
    "   'End': 'End.diffPeaks.bed.gz',\n",
    "   'In': 'In.diffPeaks.bed.gz',\n",
    "   'Oli': 'Oli.diffPeaks.bed.gz',\n",
    "   'Ast': 'Ast.diffPeaks.bed.gz',\n",
    "   'Mic': 'Mic.diffPeaks.bed.gz',\n",
    "    },\n",
    "    'tissue':'brain'\n",
    "       }\n"
   ]
  },
  {
   "cell_type": "code",
   "execution_count": 4,
   "metadata": {},
   "outputs": [],
   "source": [
    "with open('info.yaml', 'w') as writer:\n",
    "    yaml.dump(meta, writer)"
   ]
  },
  {
   "cell_type": "code",
   "execution_count": null,
   "metadata": {},
   "outputs": [],
   "source": []
  }
 ],
 "metadata": {
  "kernelspec": {
   "display_name": "Python 3",
   "language": "python",
   "name": "python3"
  },
  "language_info": {
   "codemirror_mode": {
    "name": "ipython",
    "version": 3
   },
   "file_extension": ".py",
   "mimetype": "text/x-python",
   "name": "python",
   "nbconvert_exporter": "python",
   "pygments_lexer": "ipython3",
   "version": "3.8.5"
  }
 },
 "nbformat": 4,
 "nbformat_minor": 2
}
