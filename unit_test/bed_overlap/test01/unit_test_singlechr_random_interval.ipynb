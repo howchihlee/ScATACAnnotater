{
 "cells": [
  {
   "cell_type": "code",
   "execution_count": 1,
   "metadata": {},
   "outputs": [],
   "source": [
    "import os\n",
    "import sys\n",
    "sys.path.append(os.path.abspath('../../../src/'))\n",
    "\n",
    "import pandas as pd\n",
    "import numpy as np\n",
    "\n",
    "import SortedNoDupeBedOverlap as bdo\n",
    "import io_utils\n"
   ]
  },
  {
   "cell_type": "code",
   "execution_count": 2,
   "metadata": {},
   "outputs": [],
   "source": [
    "for seed in range(1000):\n",
    "    np.random.seed(seed)\n",
    "    chrom_size = 1000\n",
    "    \n",
    "    ## simulate random intervals\n",
    "    ints0 = np.sort(np.random.choice(chrom_size + 1, size = 100, replace = False))\n",
    "    ints1 = np.sort(np.random.choice(chrom_size + 1, size = 100, replace = False))\n",
    "    \n",
    "    bed0 = [('chr1', a, b) for a, b in zip(ints0[::2], ints0[1::2])]\n",
    "    bed1 = [('chr1', a, b) for a, b in zip(ints1[::2], ints1[1::2])]\n",
    "    \n",
    "    ## compute pairwise overlap in a brute force way\n",
    "    bed0_overlaps_bf = []\n",
    "    for i, (c0, a0, b0) in enumerate(bed0):\n",
    "        overlap = sum([bdo.overlap(a0, b0, a1, b1)  if c0 == c1 else 0 for (c1, a1, b1) in bed1])\n",
    "        bed0_overlaps_bf.append(overlap / (b0 - a0))\n",
    "    \n",
    "    ## compute pairwise overlap with a linear algorithm\n",
    "    overlaps_linear = bdo.BedOverlap(bed0, bed1, 0.5)   \n",
    "\n",
    "    assert set([p for p, o in zip(bed0, bed0_overlaps_bf) if o >= 0.5]) == set(overlaps_linear)"
   ]
  },
  {
   "cell_type": "code",
   "execution_count": null,
   "metadata": {},
   "outputs": [],
   "source": []
  },
  {
   "cell_type": "code",
   "execution_count": null,
   "metadata": {},
   "outputs": [],
   "source": []
  }
 ],
 "metadata": {
  "kernelspec": {
   "display_name": "Python 3",
   "language": "python",
   "name": "python3"
  },
  "language_info": {
   "codemirror_mode": {
    "name": "ipython",
    "version": 3
   },
   "file_extension": ".py",
   "mimetype": "text/x-python",
   "name": "python",
   "nbconvert_exporter": "python",
   "pygments_lexer": "ipython3",
   "version": "3.8.5"
  }
 },
 "nbformat": 4,
 "nbformat_minor": 2
}
