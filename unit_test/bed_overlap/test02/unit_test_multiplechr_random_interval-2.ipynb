{
 "cells": [
  {
   "cell_type": "code",
   "execution_count": 1,
   "metadata": {},
   "outputs": [],
   "source": [
    "import os\n",
    "import sys\n",
    "sys.path.append(os.path.abspath('../../../src/'))\n",
    "from time import time\n",
    "\n",
    "import pandas as pd\n",
    "import numpy as np\n",
    "\n",
    "import SortedNoDupeBedOverlap as bdo\n",
    "import io_utils\n"
   ]
  },
  {
   "cell_type": "code",
   "execution_count": 2,
   "metadata": {},
   "outputs": [],
   "source": [
    "def make_random_ocr():\n",
    "    ocrs = []\n",
    "    for i in range(1, 23):\n",
    "        chrom_size = np.random.randint(1000, 10000)\n",
    "        n_ocr = np.random.randint(100, 300)\n",
    "        ints = np.sort(np.random.choice(chrom_size + 1, size = n_ocr, replace = False))\n",
    "        ocrs += [('chr%i' % i, a, b) for a, b in zip(ints[::2], ints[1::2])]\n",
    "    return ocrs"
   ]
  },
  {
   "cell_type": "code",
   "execution_count": 3,
   "metadata": {},
   "outputs": [
    {
     "name": "stdout",
     "output_type": "stream",
     "text": [
      "average run time: 0.0050\n"
     ]
    }
   ],
   "source": [
    "## bed0 missing chr 4\n",
    "\n",
    "total_time = []\n",
    "\n",
    "for seed in range(1000):\n",
    "    np.random.seed(seed)\n",
    "    chrom_size = 1000\n",
    "    \n",
    "    ## simulate random intervals\n",
    "    bed0 = sorted(make_random_ocr())\n",
    "    bed1 = sorted(make_random_ocr())\n",
    "    bed0 = [p for p in bed0 if p[0] != 'chr4'] \n",
    "    \n",
    "    ## compute pairwise overlap in a brute force way\n",
    "    bed0_overlaps_bf = []\n",
    "    for i, (c0, a0, b0) in enumerate(bed0):\n",
    "        overlap = sum([bdo.overlap(a0, b0, a1, b1)  if c0 == c1 else 0 for (c1, a1, b1) in bed1])\n",
    "        bed0_overlaps_bf.append(overlap / (b0 - a0))\n",
    "    \n",
    "    ## compute pairwise overlap with a linear algorithm\n",
    "    tic = time()\n",
    "    overlaps_linear = bdo.BedOverlap(bed0, bed1, 0.5)   \n",
    "    total_time.append(time() - tic)\n",
    "    \n",
    "    assert set([p for p, o in zip(bed0, bed0_overlaps_bf) if o >= 0.5]) == set(overlaps_linear)\n",
    "print('average run time: %.4f' % (sum(total_time) / len(total_time)) )"
   ]
  },
  {
   "cell_type": "code",
   "execution_count": null,
   "metadata": {},
   "outputs": [],
   "source": []
  }
 ],
 "metadata": {
  "kernelspec": {
   "display_name": "Python 3",
   "language": "python",
   "name": "python3"
  },
  "language_info": {
   "codemirror_mode": {
    "name": "ipython",
    "version": 3
   },
   "file_extension": ".py",
   "mimetype": "text/x-python",
   "name": "python",
   "nbconvert_exporter": "python",
   "pygments_lexer": "ipython3",
   "version": "3.8.5"
  }
 },
 "nbformat": 4,
 "nbformat_minor": 2
}
