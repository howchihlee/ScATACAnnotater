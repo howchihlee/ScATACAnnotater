{
 "cells": [
  {
   "cell_type": "code",
   "execution_count": 1,
   "metadata": {},
   "outputs": [],
   "source": [
    "import pandas as pd\n",
    "from scipy.io import mmread\n",
    "import scanpy as sc\n",
    "import os\n",
    "import sys\n",
    "sys.path.append(os.path.abspath('../../src'))\n",
    "import SortedNoDupeBedOverlap as bdO\n",
    "import io_utils\n",
    "import stats_utils"
   ]
  },
  {
   "cell_type": "code",
   "execution_count": 2,
   "metadata": {},
   "outputs": [],
   "source": [
    " mat, id2bc, id2peak = io_utils.read_atac_count_10x('./filtered_peak_bc_matrix')"
   ]
  },
  {
   "cell_type": "code",
   "execution_count": 3,
   "metadata": {},
   "outputs": [
    {
     "name": "stdout",
     "output_type": "stream",
     "text": [
      "number of peaks: 74633\n",
      "number of cells: 36286\n"
     ]
    }
   ],
   "source": [
    "## check number of cells and peaks\n",
    "print('number of peaks: %d' % len(id2peak))\n",
    "print('number of cells: %d' % len(id2bc))"
   ]
  },
  {
   "cell_type": "code",
   "execution_count": 4,
   "metadata": {
    "scrolled": true
   },
   "outputs": [],
   "source": [
    "## read cell type specific peaks downloaded from GSE147672\n",
    "ref_subtype_peaks0, ref_bk_peak = io_utils.read_reference_data('../../data/GSE97887/', verbose = False)"
   ]
  },
  {
   "cell_type": "code",
   "execution_count": 5,
   "metadata": {},
   "outputs": [],
   "source": [
    "intersect = set(bdO.BedOverlap(id2peak, sorted(ref_bk_peak), .5))\n",
    "\n",
    "ref_subtype_peaks = []\n",
    "for c, peaks in ref_subtype_peaks0:\n",
    "    ref_subtype_peaks.append( (c, set(bdO.BedOverlap(id2peak, sorted(peaks), .5))) )"
   ]
  },
  {
   "cell_type": "code",
   "execution_count": 6,
   "metadata": {
    "scrolled": false
   },
   "outputs": [
    {
     "name": "stdout",
     "output_type": "stream",
     "text": [
      "Astrocytes-1 9040\n",
      "Astrocytes-2 7109\n",
      "Hippocampal excitatory-1 12002\n",
      "Hippocampal excitatory-2 16021\n",
      "Isocortical Astrocytes 18961\n",
      "Isocortical excitatory 25980\n",
      "Isocortical inhibitory 17669\n",
      "Microglia 11076\n",
      "Nigral Astrocytes 17073\n",
      "Nigral OPCs 7092\n",
      "Nigral cells 6269\n",
      "Nigral neurons 8498\n",
      "OPCs-1 10331\n",
      "OPCs-2 16968\n",
      "Olidendrocytes-1 17555\n",
      "Olidendrocytes-2 21231\n",
      "Olidendrocytes-3 21920\n",
      "Olidendrocytes-4 21165\n",
      "Olidendrocytes-5 11400\n",
      "Striatal Astrocytes 12571\n",
      "Striatal inhibitory 9440\n"
     ]
    }
   ],
   "source": [
    "## number of cell type specific peaks \n",
    "for c, peaks in ref_subtype_peaks:\n",
    "    print(c, len(peaks))"
   ]
  },
  {
   "cell_type": "code",
   "execution_count": null,
   "metadata": {},
   "outputs": [],
   "source": [
    "## calculate enrichment scores for every cell\n",
    "scores = stats_utils.compute_enrichment_score(mat, intersect, id2peak, ref_subtype_peaks, num_cores = 10)"
   ]
  },
  {
   "cell_type": "code",
   "execution_count": 1,
   "metadata": {},
   "outputs": [
    {
     "ename": "NameError",
     "evalue": "name 'stats_utils' is not defined",
     "output_type": "error",
     "traceback": [
      "\u001b[0;31m---------------------------------------------------------------------------\u001b[0m",
      "\u001b[0;31mNameError\u001b[0m                                 Traceback (most recent call last)",
      "\u001b[0;32m<ipython-input-1-de446d725977>\u001b[0m in \u001b[0;36m<module>\u001b[0;34m\u001b[0m\n\u001b[1;32m      1\u001b[0m \u001b[0;31m## visualization using scanpy\u001b[0m\u001b[0;34m\u001b[0m\u001b[0;34m\u001b[0m\u001b[0;34m\u001b[0m\u001b[0m\n\u001b[0;32m----> 2\u001b[0;31m \u001b[0mpcas\u001b[0m \u001b[0;34m=\u001b[0m \u001b[0mstats_utils\u001b[0m\u001b[0;34m.\u001b[0m\u001b[0mnormalized_pca_from_sparse_mat\u001b[0m\u001b[0;34m(\u001b[0m\u001b[0mmat\u001b[0m\u001b[0;34m,\u001b[0m \u001b[0mn_pc\u001b[0m \u001b[0;34m=\u001b[0m \u001b[0;36m20\u001b[0m\u001b[0;34m)\u001b[0m\u001b[0;34m\u001b[0m\u001b[0;34m\u001b[0m\u001b[0m\n\u001b[0m\u001b[1;32m      3\u001b[0m \u001b[0;34m\u001b[0m\u001b[0m\n\u001b[1;32m      4\u001b[0m data_obj = sc.AnnData(pcas, \n\u001b[1;32m      5\u001b[0m       \u001b[0mobs\u001b[0m \u001b[0;34m=\u001b[0m \u001b[0mpd\u001b[0m\u001b[0;34m.\u001b[0m\u001b[0mDataFrame\u001b[0m\u001b[0;34m(\u001b[0m\u001b[0;34m[\u001b[0m\u001b[0;34m]\u001b[0m\u001b[0;34m,\u001b[0m \u001b[0mindex\u001b[0m \u001b[0;34m=\u001b[0m \u001b[0mid2bc\u001b[0m\u001b[0;34m)\u001b[0m\u001b[0;34m,\u001b[0m\u001b[0;34m\u001b[0m\u001b[0;34m\u001b[0m\u001b[0m\n",
      "\u001b[0;31mNameError\u001b[0m: name 'stats_utils' is not defined"
     ]
    }
   ],
   "source": [
    "## visualization using scanpy\n",
    "pcas = stats_utils.normalized_pca_from_sparse_mat(mat, n_pc = 20) \n",
    "            \n",
    "data_obj = sc.AnnData(pcas, \n",
    "      obs = pd.DataFrame([], index = id2bc),\n",
    "      )        \n",
    "\n",
    "sc.pp.neighbors(data_obj, use_rep='X')\n",
    "sc.tl.umap(data_obj) \n",
    "\n",
    "data_obj.obs = score_df\n",
    "\n",
    "sc.pl.umap(data_obj, color = score_df.columns, cmap = 'RdBu_r', vmax = 5, show = False)"
   ]
  },
  {
   "cell_type": "code",
   "execution_count": null,
   "metadata": {},
   "outputs": [],
   "source": [
    "score_df = pd.DataFrame(scores, \n",
    "                        columns = [c for c, _ in ref_subtype_peaks],\n",
    "                       index = data_obj.obs.index\n",
    "                       )"
   ]
  },
  {
   "cell_type": "code",
   "execution_count": null,
   "metadata": {},
   "outputs": [],
   "source": [
    "score_df.head()"
   ]
  },
  {
   "cell_type": "code",
   "execution_count": null,
   "metadata": {},
   "outputs": [],
   "source": [
    "data_obj.obs = score_df"
   ]
  },
  {
   "cell_type": "code",
   "execution_count": null,
   "metadata": {
    "scrolled": false
   },
   "outputs": [],
   "source": [
    "## plotting odds ratio on umap, red colors shows cells that are enriched in cell-type specific peaks\n",
    "sc.pl.umap(data_obj, color = score_df.columns, cmap = 'RdBu_r', vmax = 5)"
   ]
  },
  {
   "cell_type": "code",
   "execution_count": null,
   "metadata": {},
   "outputs": [],
   "source": []
  },
  {
   "cell_type": "code",
   "execution_count": null,
   "metadata": {},
   "outputs": [],
   "source": []
  }
 ],
 "metadata": {
  "kernelspec": {
   "display_name": "Python 3",
   "language": "python",
   "name": "python3"
  },
  "language_info": {
   "codemirror_mode": {
    "name": "ipython",
    "version": 3
   },
   "file_extension": ".py",
   "mimetype": "text/x-python",
   "name": "python",
   "nbconvert_exporter": "python",
   "pygments_lexer": "ipython3",
   "version": "3.8.5"
  }
 },
 "nbformat": 4,
 "nbformat_minor": 2
}
